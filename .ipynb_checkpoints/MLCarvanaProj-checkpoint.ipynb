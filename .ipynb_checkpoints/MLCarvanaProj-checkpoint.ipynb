{
 "cells": [
  {
   "cell_type": "code",
   "execution_count": 1,
   "metadata": {},
   "outputs": [],
   "source": [
    "import pandas as pd\n",
    "import numpy as np\n",
    "import matplotlib.pyplot as plt\n",
    "import seaborn as sns"
   ]
  },
  {
   "cell_type": "code",
   "execution_count": 2,
   "metadata": {},
   "outputs": [],
   "source": [
    "data = pd.read_csv(r\"C:\\Users\\Luka\\Desktop\\ML projekat data\\carvana.csv\")"
   ]
  },
  {
   "cell_type": "code",
   "execution_count": 3,
   "metadata": {},
   "outputs": [
    {
     "data": {
      "text/html": [
       "<div>\n",
       "<style scoped>\n",
       "    .dataframe tbody tr th:only-of-type {\n",
       "        vertical-align: middle;\n",
       "    }\n",
       "\n",
       "    .dataframe tbody tr th {\n",
       "        vertical-align: top;\n",
       "    }\n",
       "\n",
       "    .dataframe thead th {\n",
       "        text-align: right;\n",
       "    }\n",
       "</style>\n",
       "<table border=\"1\" class=\"dataframe\">\n",
       "  <thead>\n",
       "    <tr style=\"text-align: right;\">\n",
       "      <th></th>\n",
       "      <th>RefId</th>\n",
       "      <th>PurchDate</th>\n",
       "      <th>Auction</th>\n",
       "      <th>VehYear</th>\n",
       "      <th>VehicleAge</th>\n",
       "      <th>Make</th>\n",
       "      <th>Model</th>\n",
       "      <th>Trim</th>\n",
       "      <th>SubModel</th>\n",
       "      <th>Color</th>\n",
       "      <th>...</th>\n",
       "      <th>MMRCurrentRetailCleanPrice</th>\n",
       "      <th>PRIMEUNIT</th>\n",
       "      <th>AUCGUART</th>\n",
       "      <th>BYRNO</th>\n",
       "      <th>VNZIP1</th>\n",
       "      <th>VNST</th>\n",
       "      <th>VehBCost</th>\n",
       "      <th>IsOnlineSale</th>\n",
       "      <th>WarrantyCost</th>\n",
       "      <th>IsBadBuy</th>\n",
       "    </tr>\n",
       "  </thead>\n",
       "  <tbody>\n",
       "    <tr>\n",
       "      <th>0</th>\n",
       "      <td>1</td>\n",
       "      <td>1/7/2009 0:12</td>\n",
       "      <td>ADESA</td>\n",
       "      <td>2005</td>\n",
       "      <td>4</td>\n",
       "      <td>DODGE</td>\n",
       "      <td>STRATUS V6</td>\n",
       "      <td>SXT</td>\n",
       "      <td>4D SEDAN SXT FFV</td>\n",
       "      <td>MAROON</td>\n",
       "      <td>...</td>\n",
       "      <td>8702.0</td>\n",
       "      <td>NaN</td>\n",
       "      <td>NaN</td>\n",
       "      <td>19638</td>\n",
       "      <td>33619</td>\n",
       "      <td>FL</td>\n",
       "      <td>4900.0</td>\n",
       "      <td>0</td>\n",
       "      <td>1389</td>\n",
       "      <td>0</td>\n",
       "    </tr>\n",
       "    <tr>\n",
       "      <th>1</th>\n",
       "      <td>2</td>\n",
       "      <td>1/7/2009 0:12</td>\n",
       "      <td>ADESA</td>\n",
       "      <td>2004</td>\n",
       "      <td>5</td>\n",
       "      <td>DODGE</td>\n",
       "      <td>NEON</td>\n",
       "      <td>SXT</td>\n",
       "      <td>4D SEDAN</td>\n",
       "      <td>SILVER</td>\n",
       "      <td>...</td>\n",
       "      <td>5518.0</td>\n",
       "      <td>NaN</td>\n",
       "      <td>NaN</td>\n",
       "      <td>19638</td>\n",
       "      <td>33619</td>\n",
       "      <td>FL</td>\n",
       "      <td>4100.0</td>\n",
       "      <td>0</td>\n",
       "      <td>630</td>\n",
       "      <td>0</td>\n",
       "    </tr>\n",
       "    <tr>\n",
       "      <th>2</th>\n",
       "      <td>3</td>\n",
       "      <td>1/7/2009 0:12</td>\n",
       "      <td>ADESA</td>\n",
       "      <td>2005</td>\n",
       "      <td>4</td>\n",
       "      <td>FORD</td>\n",
       "      <td>FOCUS</td>\n",
       "      <td>ZX3</td>\n",
       "      <td>2D COUPE ZX3</td>\n",
       "      <td>SILVER</td>\n",
       "      <td>...</td>\n",
       "      <td>7911.0</td>\n",
       "      <td>NaN</td>\n",
       "      <td>NaN</td>\n",
       "      <td>19638</td>\n",
       "      <td>33619</td>\n",
       "      <td>FL</td>\n",
       "      <td>4000.0</td>\n",
       "      <td>0</td>\n",
       "      <td>1020</td>\n",
       "      <td>0</td>\n",
       "    </tr>\n",
       "    <tr>\n",
       "      <th>3</th>\n",
       "      <td>4</td>\n",
       "      <td>1/7/2009 0:12</td>\n",
       "      <td>ADESA</td>\n",
       "      <td>2004</td>\n",
       "      <td>5</td>\n",
       "      <td>MITSUBISHI</td>\n",
       "      <td>GALANT 4C</td>\n",
       "      <td>ES</td>\n",
       "      <td>4D SEDAN ES</td>\n",
       "      <td>WHITE</td>\n",
       "      <td>...</td>\n",
       "      <td>9451.0</td>\n",
       "      <td>NaN</td>\n",
       "      <td>NaN</td>\n",
       "      <td>19638</td>\n",
       "      <td>33619</td>\n",
       "      <td>FL</td>\n",
       "      <td>5600.0</td>\n",
       "      <td>0</td>\n",
       "      <td>594</td>\n",
       "      <td>0</td>\n",
       "    </tr>\n",
       "    <tr>\n",
       "      <th>4</th>\n",
       "      <td>5</td>\n",
       "      <td>1/21/2009 0:12</td>\n",
       "      <td>ADESA</td>\n",
       "      <td>2004</td>\n",
       "      <td>5</td>\n",
       "      <td>DODGE</td>\n",
       "      <td>1500 RAM PICKUP 2WD</td>\n",
       "      <td>ST</td>\n",
       "      <td>QUAD CAB 4.7L SLT</td>\n",
       "      <td>WHITE</td>\n",
       "      <td>...</td>\n",
       "      <td>12560.0</td>\n",
       "      <td>NaN</td>\n",
       "      <td>NaN</td>\n",
       "      <td>19638</td>\n",
       "      <td>33619</td>\n",
       "      <td>FL</td>\n",
       "      <td>8800.0</td>\n",
       "      <td>0</td>\n",
       "      <td>920</td>\n",
       "      <td>0</td>\n",
       "    </tr>\n",
       "  </tbody>\n",
       "</table>\n",
       "<p>5 rows × 34 columns</p>\n",
       "</div>"
      ],
      "text/plain": [
       "   RefId       PurchDate Auction  VehYear  VehicleAge        Make  \\\n",
       "0      1   1/7/2009 0:12   ADESA     2005           4       DODGE   \n",
       "1      2   1/7/2009 0:12   ADESA     2004           5       DODGE   \n",
       "2      3   1/7/2009 0:12   ADESA     2005           4        FORD   \n",
       "3      4   1/7/2009 0:12   ADESA     2004           5  MITSUBISHI   \n",
       "4      5  1/21/2009 0:12   ADESA     2004           5       DODGE   \n",
       "\n",
       "                 Model Trim           SubModel   Color  ...  \\\n",
       "0           STRATUS V6  SXT   4D SEDAN SXT FFV  MAROON  ...   \n",
       "1                 NEON  SXT           4D SEDAN  SILVER  ...   \n",
       "2                FOCUS  ZX3       2D COUPE ZX3  SILVER  ...   \n",
       "3            GALANT 4C   ES        4D SEDAN ES   WHITE  ...   \n",
       "4  1500 RAM PICKUP 2WD   ST  QUAD CAB 4.7L SLT   WHITE  ...   \n",
       "\n",
       "  MMRCurrentRetailCleanPrice  PRIMEUNIT AUCGUART  BYRNO VNZIP1 VNST VehBCost  \\\n",
       "0                     8702.0        NaN      NaN  19638  33619   FL   4900.0   \n",
       "1                     5518.0        NaN      NaN  19638  33619   FL   4100.0   \n",
       "2                     7911.0        NaN      NaN  19638  33619   FL   4000.0   \n",
       "3                     9451.0        NaN      NaN  19638  33619   FL   5600.0   \n",
       "4                    12560.0        NaN      NaN  19638  33619   FL   8800.0   \n",
       "\n",
       "   IsOnlineSale  WarrantyCost  IsBadBuy  \n",
       "0             0          1389         0  \n",
       "1             0           630         0  \n",
       "2             0          1020         0  \n",
       "3             0           594         0  \n",
       "4             0           920         0  \n",
       "\n",
       "[5 rows x 34 columns]"
      ]
     },
     "execution_count": 3,
     "metadata": {},
     "output_type": "execute_result"
    }
   ],
   "source": [
    "data.head()"
   ]
  },
  {
   "cell_type": "code",
   "execution_count": 116,
   "metadata": {},
   "outputs": [
    {
     "data": {
      "text/plain": [
       "0    87.260959\n",
       "1    12.739041\n",
       "Name: IsBadBuy, dtype: float64"
      ]
     },
     "execution_count": 116,
     "metadata": {},
     "output_type": "execute_result"
    }
   ],
   "source": [
    "data['IsBadBuy'].value_counts(normalize = True) * 100"
   ]
  },
  {
   "cell_type": "code",
   "execution_count": 4,
   "metadata": {},
   "outputs": [
    {
     "data": {
      "text/html": [
       "<div>\n",
       "<style scoped>\n",
       "    .dataframe tbody tr th:only-of-type {\n",
       "        vertical-align: middle;\n",
       "    }\n",
       "\n",
       "    .dataframe tbody tr th {\n",
       "        vertical-align: top;\n",
       "    }\n",
       "\n",
       "    .dataframe thead th {\n",
       "        text-align: right;\n",
       "    }\n",
       "</style>\n",
       "<table border=\"1\" class=\"dataframe\">\n",
       "  <thead>\n",
       "    <tr style=\"text-align: right;\">\n",
       "      <th></th>\n",
       "      <th>PurchDate</th>\n",
       "      <th>Auction</th>\n",
       "      <th>VehYear</th>\n",
       "      <th>VehicleAge</th>\n",
       "      <th>Make</th>\n",
       "      <th>Model</th>\n",
       "      <th>Trim</th>\n",
       "      <th>SubModel</th>\n",
       "      <th>Color</th>\n",
       "      <th>Transmission</th>\n",
       "      <th>...</th>\n",
       "      <th>MMRCurrentRetailCleanPrice</th>\n",
       "      <th>PRIMEUNIT</th>\n",
       "      <th>AUCGUART</th>\n",
       "      <th>BYRNO</th>\n",
       "      <th>VNZIP1</th>\n",
       "      <th>VNST</th>\n",
       "      <th>VehBCost</th>\n",
       "      <th>IsOnlineSale</th>\n",
       "      <th>WarrantyCost</th>\n",
       "      <th>IsBadBuy</th>\n",
       "    </tr>\n",
       "    <tr>\n",
       "      <th>RefId</th>\n",
       "      <th></th>\n",
       "      <th></th>\n",
       "      <th></th>\n",
       "      <th></th>\n",
       "      <th></th>\n",
       "      <th></th>\n",
       "      <th></th>\n",
       "      <th></th>\n",
       "      <th></th>\n",
       "      <th></th>\n",
       "      <th></th>\n",
       "      <th></th>\n",
       "      <th></th>\n",
       "      <th></th>\n",
       "      <th></th>\n",
       "      <th></th>\n",
       "      <th></th>\n",
       "      <th></th>\n",
       "      <th></th>\n",
       "      <th></th>\n",
       "      <th></th>\n",
       "    </tr>\n",
       "  </thead>\n",
       "  <tbody>\n",
       "    <tr>\n",
       "      <th>1</th>\n",
       "      <td>1/7/2009 0:12</td>\n",
       "      <td>ADESA</td>\n",
       "      <td>2005</td>\n",
       "      <td>4</td>\n",
       "      <td>DODGE</td>\n",
       "      <td>STRATUS V6</td>\n",
       "      <td>SXT</td>\n",
       "      <td>4D SEDAN SXT FFV</td>\n",
       "      <td>MAROON</td>\n",
       "      <td>AUTO</td>\n",
       "      <td>...</td>\n",
       "      <td>8702.0</td>\n",
       "      <td>NaN</td>\n",
       "      <td>NaN</td>\n",
       "      <td>19638</td>\n",
       "      <td>33619</td>\n",
       "      <td>FL</td>\n",
       "      <td>4900.0</td>\n",
       "      <td>0</td>\n",
       "      <td>1389</td>\n",
       "      <td>0</td>\n",
       "    </tr>\n",
       "    <tr>\n",
       "      <th>2</th>\n",
       "      <td>1/7/2009 0:12</td>\n",
       "      <td>ADESA</td>\n",
       "      <td>2004</td>\n",
       "      <td>5</td>\n",
       "      <td>DODGE</td>\n",
       "      <td>NEON</td>\n",
       "      <td>SXT</td>\n",
       "      <td>4D SEDAN</td>\n",
       "      <td>SILVER</td>\n",
       "      <td>AUTO</td>\n",
       "      <td>...</td>\n",
       "      <td>5518.0</td>\n",
       "      <td>NaN</td>\n",
       "      <td>NaN</td>\n",
       "      <td>19638</td>\n",
       "      <td>33619</td>\n",
       "      <td>FL</td>\n",
       "      <td>4100.0</td>\n",
       "      <td>0</td>\n",
       "      <td>630</td>\n",
       "      <td>0</td>\n",
       "    </tr>\n",
       "    <tr>\n",
       "      <th>3</th>\n",
       "      <td>1/7/2009 0:12</td>\n",
       "      <td>ADESA</td>\n",
       "      <td>2005</td>\n",
       "      <td>4</td>\n",
       "      <td>FORD</td>\n",
       "      <td>FOCUS</td>\n",
       "      <td>ZX3</td>\n",
       "      <td>2D COUPE ZX3</td>\n",
       "      <td>SILVER</td>\n",
       "      <td>MANUAL</td>\n",
       "      <td>...</td>\n",
       "      <td>7911.0</td>\n",
       "      <td>NaN</td>\n",
       "      <td>NaN</td>\n",
       "      <td>19638</td>\n",
       "      <td>33619</td>\n",
       "      <td>FL</td>\n",
       "      <td>4000.0</td>\n",
       "      <td>0</td>\n",
       "      <td>1020</td>\n",
       "      <td>0</td>\n",
       "    </tr>\n",
       "    <tr>\n",
       "      <th>4</th>\n",
       "      <td>1/7/2009 0:12</td>\n",
       "      <td>ADESA</td>\n",
       "      <td>2004</td>\n",
       "      <td>5</td>\n",
       "      <td>MITSUBISHI</td>\n",
       "      <td>GALANT 4C</td>\n",
       "      <td>ES</td>\n",
       "      <td>4D SEDAN ES</td>\n",
       "      <td>WHITE</td>\n",
       "      <td>AUTO</td>\n",
       "      <td>...</td>\n",
       "      <td>9451.0</td>\n",
       "      <td>NaN</td>\n",
       "      <td>NaN</td>\n",
       "      <td>19638</td>\n",
       "      <td>33619</td>\n",
       "      <td>FL</td>\n",
       "      <td>5600.0</td>\n",
       "      <td>0</td>\n",
       "      <td>594</td>\n",
       "      <td>0</td>\n",
       "    </tr>\n",
       "    <tr>\n",
       "      <th>5</th>\n",
       "      <td>1/21/2009 0:12</td>\n",
       "      <td>ADESA</td>\n",
       "      <td>2004</td>\n",
       "      <td>5</td>\n",
       "      <td>DODGE</td>\n",
       "      <td>1500 RAM PICKUP 2WD</td>\n",
       "      <td>ST</td>\n",
       "      <td>QUAD CAB 4.7L SLT</td>\n",
       "      <td>WHITE</td>\n",
       "      <td>AUTO</td>\n",
       "      <td>...</td>\n",
       "      <td>12560.0</td>\n",
       "      <td>NaN</td>\n",
       "      <td>NaN</td>\n",
       "      <td>19638</td>\n",
       "      <td>33619</td>\n",
       "      <td>FL</td>\n",
       "      <td>8800.0</td>\n",
       "      <td>0</td>\n",
       "      <td>920</td>\n",
       "      <td>0</td>\n",
       "    </tr>\n",
       "    <tr>\n",
       "      <th>...</th>\n",
       "      <td>...</td>\n",
       "      <td>...</td>\n",
       "      <td>...</td>\n",
       "      <td>...</td>\n",
       "      <td>...</td>\n",
       "      <td>...</td>\n",
       "      <td>...</td>\n",
       "      <td>...</td>\n",
       "      <td>...</td>\n",
       "      <td>...</td>\n",
       "      <td>...</td>\n",
       "      <td>...</td>\n",
       "      <td>...</td>\n",
       "      <td>...</td>\n",
       "      <td>...</td>\n",
       "      <td>...</td>\n",
       "      <td>...</td>\n",
       "      <td>...</td>\n",
       "      <td>...</td>\n",
       "      <td>...</td>\n",
       "      <td>...</td>\n",
       "    </tr>\n",
       "    <tr>\n",
       "      <th>6794</th>\n",
       "      <td>1/18/2009 0:11</td>\n",
       "      <td>ADESA</td>\n",
       "      <td>2006</td>\n",
       "      <td>3</td>\n",
       "      <td>SUZUKI</td>\n",
       "      <td>FORENZA</td>\n",
       "      <td>NaN</td>\n",
       "      <td>4D SEDAN</td>\n",
       "      <td>RED</td>\n",
       "      <td>AUTO</td>\n",
       "      <td>...</td>\n",
       "      <td>8766.0</td>\n",
       "      <td>NaN</td>\n",
       "      <td>NaN</td>\n",
       "      <td>18111</td>\n",
       "      <td>30212</td>\n",
       "      <td>NaN</td>\n",
       "      <td>5600.0</td>\n",
       "      <td>0</td>\n",
       "      <td>533</td>\n",
       "      <td>0</td>\n",
       "    </tr>\n",
       "    <tr>\n",
       "      <th>6795</th>\n",
       "      <td>1/24/2009 0:11</td>\n",
       "      <td>ADESA</td>\n",
       "      <td>2005</td>\n",
       "      <td>4</td>\n",
       "      <td>JEEP</td>\n",
       "      <td>LIBERTY 4WD V6</td>\n",
       "      <td>Spo</td>\n",
       "      <td>4D SUV</td>\n",
       "      <td>RED</td>\n",
       "      <td>AUTO</td>\n",
       "      <td>...</td>\n",
       "      <td>12190.0</td>\n",
       "      <td>NaN</td>\n",
       "      <td>NaN</td>\n",
       "      <td>18881</td>\n",
       "      <td>30212</td>\n",
       "      <td>NaN</td>\n",
       "      <td>6600.0</td>\n",
       "      <td>0</td>\n",
       "      <td>983</td>\n",
       "      <td>0</td>\n",
       "    </tr>\n",
       "    <tr>\n",
       "      <th>6796</th>\n",
       "      <td>1/24/2009 0:11</td>\n",
       "      <td>ADESA</td>\n",
       "      <td>2002</td>\n",
       "      <td>7</td>\n",
       "      <td>CHEVROLET</td>\n",
       "      <td>TRAILBLAZER EXT 2WD</td>\n",
       "      <td>LT</td>\n",
       "      <td>4D SUV 4.2L LT</td>\n",
       "      <td>BEIGE</td>\n",
       "      <td>AUTO</td>\n",
       "      <td>...</td>\n",
       "      <td>9754.0</td>\n",
       "      <td>NaN</td>\n",
       "      <td>NaN</td>\n",
       "      <td>18881</td>\n",
       "      <td>30212</td>\n",
       "      <td>NaN</td>\n",
       "      <td>7000.0</td>\n",
       "      <td>0</td>\n",
       "      <td>1455</td>\n",
       "      <td>0</td>\n",
       "    </tr>\n",
       "    <tr>\n",
       "      <th>6797</th>\n",
       "      <td>1/24/2009 0:11</td>\n",
       "      <td>ADESA</td>\n",
       "      <td>2006</td>\n",
       "      <td>3</td>\n",
       "      <td>JEEP</td>\n",
       "      <td>COMMANDER 2WD V8</td>\n",
       "      <td>Bas</td>\n",
       "      <td>4D WAGON</td>\n",
       "      <td>BLACK</td>\n",
       "      <td>AUTO</td>\n",
       "      <td>...</td>\n",
       "      <td>19161.0</td>\n",
       "      <td>NaN</td>\n",
       "      <td>NaN</td>\n",
       "      <td>18111</td>\n",
       "      <td>30212</td>\n",
       "      <td>NaN</td>\n",
       "      <td>10400.0</td>\n",
       "      <td>0</td>\n",
       "      <td>1606</td>\n",
       "      <td>0</td>\n",
       "    </tr>\n",
       "    <tr>\n",
       "      <th>6798</th>\n",
       "      <td>1/2/2009 0:12</td>\n",
       "      <td>ADESA</td>\n",
       "      <td>2002</td>\n",
       "      <td>7</td>\n",
       "      <td>DODGE</td>\n",
       "      <td>1500 RAM PICKUP 2WD</td>\n",
       "      <td>ST</td>\n",
       "      <td>QUAD CAB 4.7L SLT</td>\n",
       "      <td>GOLD</td>\n",
       "      <td>AUTO</td>\n",
       "      <td>...</td>\n",
       "      <td>10173.0</td>\n",
       "      <td>NaN</td>\n",
       "      <td>NaN</td>\n",
       "      <td>18111</td>\n",
       "      <td>30212</td>\n",
       "      <td>NaN</td>\n",
       "      <td>7500.0</td>\n",
       "      <td>0</td>\n",
       "      <td>1353</td>\n",
       "      <td>0</td>\n",
       "    </tr>\n",
       "  </tbody>\n",
       "</table>\n",
       "<p>6798 rows × 33 columns</p>\n",
       "</div>"
      ],
      "text/plain": [
       "            PurchDate Auction  VehYear  VehicleAge        Make  \\\n",
       "RefId                                                            \n",
       "1       1/7/2009 0:12   ADESA     2005           4       DODGE   \n",
       "2       1/7/2009 0:12   ADESA     2004           5       DODGE   \n",
       "3       1/7/2009 0:12   ADESA     2005           4        FORD   \n",
       "4       1/7/2009 0:12   ADESA     2004           5  MITSUBISHI   \n",
       "5      1/21/2009 0:12   ADESA     2004           5       DODGE   \n",
       "...               ...     ...      ...         ...         ...   \n",
       "6794   1/18/2009 0:11   ADESA     2006           3      SUZUKI   \n",
       "6795   1/24/2009 0:11   ADESA     2005           4        JEEP   \n",
       "6796   1/24/2009 0:11   ADESA     2002           7   CHEVROLET   \n",
       "6797   1/24/2009 0:11   ADESA     2006           3        JEEP   \n",
       "6798    1/2/2009 0:12   ADESA     2002           7       DODGE   \n",
       "\n",
       "                     Model Trim           SubModel   Color Transmission  ...  \\\n",
       "RefId                                                                    ...   \n",
       "1               STRATUS V6  SXT   4D SEDAN SXT FFV  MAROON         AUTO  ...   \n",
       "2                     NEON  SXT           4D SEDAN  SILVER         AUTO  ...   \n",
       "3                    FOCUS  ZX3       2D COUPE ZX3  SILVER       MANUAL  ...   \n",
       "4                GALANT 4C   ES        4D SEDAN ES   WHITE         AUTO  ...   \n",
       "5      1500 RAM PICKUP 2WD   ST  QUAD CAB 4.7L SLT   WHITE         AUTO  ...   \n",
       "...                    ...  ...                ...     ...          ...  ...   \n",
       "6794               FORENZA  NaN           4D SEDAN     RED         AUTO  ...   \n",
       "6795        LIBERTY 4WD V6  Spo             4D SUV     RED         AUTO  ...   \n",
       "6796   TRAILBLAZER EXT 2WD   LT     4D SUV 4.2L LT   BEIGE         AUTO  ...   \n",
       "6797      COMMANDER 2WD V8  Bas           4D WAGON   BLACK         AUTO  ...   \n",
       "6798   1500 RAM PICKUP 2WD   ST  QUAD CAB 4.7L SLT    GOLD         AUTO  ...   \n",
       "\n",
       "       MMRCurrentRetailCleanPrice PRIMEUNIT  AUCGUART  BYRNO VNZIP1 VNST  \\\n",
       "RefId                                                                      \n",
       "1                          8702.0       NaN       NaN  19638  33619   FL   \n",
       "2                          5518.0       NaN       NaN  19638  33619   FL   \n",
       "3                          7911.0       NaN       NaN  19638  33619   FL   \n",
       "4                          9451.0       NaN       NaN  19638  33619   FL   \n",
       "5                         12560.0       NaN       NaN  19638  33619   FL   \n",
       "...                           ...       ...       ...    ...    ...  ...   \n",
       "6794                       8766.0       NaN       NaN  18111  30212  NaN   \n",
       "6795                      12190.0       NaN       NaN  18881  30212  NaN   \n",
       "6796                       9754.0       NaN       NaN  18881  30212  NaN   \n",
       "6797                      19161.0       NaN       NaN  18111  30212  NaN   \n",
       "6798                      10173.0       NaN       NaN  18111  30212  NaN   \n",
       "\n",
       "       VehBCost  IsOnlineSale  WarrantyCost  IsBadBuy  \n",
       "RefId                                                  \n",
       "1        4900.0             0          1389         0  \n",
       "2        4100.0             0           630         0  \n",
       "3        4000.0             0          1020         0  \n",
       "4        5600.0             0           594         0  \n",
       "5        8800.0             0           920         0  \n",
       "...         ...           ...           ...       ...  \n",
       "6794     5600.0             0           533         0  \n",
       "6795     6600.0             0           983         0  \n",
       "6796     7000.0             0          1455         0  \n",
       "6797    10400.0             0          1606         0  \n",
       "6798     7500.0             0          1353         0  \n",
       "\n",
       "[6798 rows x 33 columns]"
      ]
     },
     "execution_count": 4,
     "metadata": {},
     "output_type": "execute_result"
    }
   ],
   "source": [
    "data.set_index('RefId')"
   ]
  },
  {
   "cell_type": "code",
   "execution_count": 5,
   "metadata": {},
   "outputs": [
    {
     "name": "stdout",
     "output_type": "stream",
     "text": [
      "<class 'pandas.core.frame.DataFrame'>\n",
      "RangeIndex: 6798 entries, 0 to 6797\n",
      "Data columns (total 34 columns):\n",
      " #   Column                             Non-Null Count  Dtype  \n",
      "---  ------                             --------------  -----  \n",
      " 0   RefId                              6798 non-null   int64  \n",
      " 1   PurchDate                          6798 non-null   object \n",
      " 2   Auction                            2983 non-null   object \n",
      " 3   VehYear                            6798 non-null   int64  \n",
      " 4   VehicleAge                         6798 non-null   int64  \n",
      " 5   Make                               6798 non-null   object \n",
      " 6   Model                              6798 non-null   object \n",
      " 7   Trim                               6566 non-null   object \n",
      " 8   SubModel                           6798 non-null   object \n",
      " 9   Color                              6798 non-null   object \n",
      " 10  Transmission                       6798 non-null   object \n",
      " 11  WheelTypeID                        6515 non-null   float64\n",
      " 12  WheelType                          6459 non-null   object \n",
      " 13  VehOdo                             6798 non-null   int64  \n",
      " 14  Nationality                        6797 non-null   object \n",
      " 15  Size                               6797 non-null   object \n",
      " 16  TopThreeAmericanName               6797 non-null   object \n",
      " 17  MMRAcquisitionAuctionAveragePrice  6797 non-null   float64\n",
      " 18  MMRAcquisitionAuctionCleanPrice    6797 non-null   float64\n",
      " 19  MMRAcquisitionRetailAveragePrice   6797 non-null   float64\n",
      " 20  MMRAcquisitonRetailCleanPrice      6797 non-null   float64\n",
      " 21  MMRCurrentAuctionAveragePrice      6777 non-null   float64\n",
      " 22  MMRCurrentAuctionCleanPrice        6777 non-null   float64\n",
      " 23  MMRCurrentRetailAveragePrice       6777 non-null   float64\n",
      " 24  MMRCurrentRetailCleanPrice         6777 non-null   float64\n",
      " 25  PRIMEUNIT                          339 non-null    object \n",
      " 26  AUCGUART                           339 non-null    object \n",
      " 27  BYRNO                              6798 non-null   int64  \n",
      " 28  VNZIP1                             6798 non-null   int64  \n",
      " 29  VNST                               1131 non-null   object \n",
      " 30  VehBCost                           6798 non-null   float64\n",
      " 31  IsOnlineSale                       6798 non-null   int64  \n",
      " 32  WarrantyCost                       6798 non-null   int64  \n",
      " 33  IsBadBuy                           6798 non-null   int64  \n",
      "dtypes: float64(10), int64(9), object(15)\n",
      "memory usage: 1.8+ MB\n"
     ]
    }
   ],
   "source": [
    "data.info()"
   ]
  },
  {
   "cell_type": "code",
   "execution_count": 6,
   "metadata": {},
   "outputs": [
    {
     "data": {
      "text/plain": [
       "0    5932\n",
       "1     866\n",
       "Name: IsBadBuy, dtype: int64"
      ]
     },
     "execution_count": 6,
     "metadata": {},
     "output_type": "execute_result"
    }
   ],
   "source": [
    "data['IsBadBuy'].value_counts()"
   ]
  },
  {
   "cell_type": "code",
   "execution_count": 7,
   "metadata": {},
   "outputs": [
    {
     "data": {
      "text/plain": [
       "RefId                                   0\n",
       "PurchDate                               0\n",
       "Auction                              3815\n",
       "VehYear                                 0\n",
       "VehicleAge                              0\n",
       "Make                                    0\n",
       "Model                                   0\n",
       "Trim                                  232\n",
       "SubModel                                0\n",
       "Color                                   0\n",
       "Transmission                            0\n",
       "WheelTypeID                           283\n",
       "WheelType                             339\n",
       "VehOdo                                  0\n",
       "Nationality                             1\n",
       "Size                                    1\n",
       "TopThreeAmericanName                    1\n",
       "MMRAcquisitionAuctionAveragePrice       1\n",
       "MMRAcquisitionAuctionCleanPrice         1\n",
       "MMRAcquisitionRetailAveragePrice        1\n",
       "MMRAcquisitonRetailCleanPrice           1\n",
       "MMRCurrentAuctionAveragePrice          21\n",
       "MMRCurrentAuctionCleanPrice            21\n",
       "MMRCurrentRetailAveragePrice           21\n",
       "MMRCurrentRetailCleanPrice             21\n",
       "PRIMEUNIT                            6459\n",
       "AUCGUART                             6459\n",
       "BYRNO                                   0\n",
       "VNZIP1                                  0\n",
       "VNST                                 5667\n",
       "VehBCost                                0\n",
       "IsOnlineSale                            0\n",
       "WarrantyCost                            0\n",
       "IsBadBuy                                0\n",
       "dtype: int64"
      ]
     },
     "execution_count": 7,
     "metadata": {},
     "output_type": "execute_result"
    }
   ],
   "source": [
    "data.isnull().sum()"
   ]
  },
  {
   "cell_type": "code",
   "execution_count": 8,
   "metadata": {},
   "outputs": [
    {
     "data": {
      "text/plain": [
       "OTHER    1598\n",
       "ADESA    1385\n",
       "Name: Auction, dtype: int64"
      ]
     },
     "execution_count": 8,
     "metadata": {},
     "output_type": "execute_result"
    }
   ],
   "source": [
    "data['Auction'].value_counts()"
   ]
  },
  {
   "cell_type": "code",
   "execution_count": 9,
   "metadata": {},
   "outputs": [],
   "source": [
    "data = data.drop(['PRIMEUNIT', 'AUCGUART', 'VNST'], axis = 1)"
   ]
  },
  {
   "cell_type": "code",
   "execution_count": 10,
   "metadata": {},
   "outputs": [
    {
     "name": "stdout",
     "output_type": "stream",
     "text": [
      "<class 'pandas.core.frame.DataFrame'>\n",
      "RangeIndex: 6798 entries, 0 to 6797\n",
      "Data columns (total 31 columns):\n",
      " #   Column                             Non-Null Count  Dtype  \n",
      "---  ------                             --------------  -----  \n",
      " 0   RefId                              6798 non-null   int64  \n",
      " 1   PurchDate                          6798 non-null   object \n",
      " 2   Auction                            2983 non-null   object \n",
      " 3   VehYear                            6798 non-null   int64  \n",
      " 4   VehicleAge                         6798 non-null   int64  \n",
      " 5   Make                               6798 non-null   object \n",
      " 6   Model                              6798 non-null   object \n",
      " 7   Trim                               6566 non-null   object \n",
      " 8   SubModel                           6798 non-null   object \n",
      " 9   Color                              6798 non-null   object \n",
      " 10  Transmission                       6798 non-null   object \n",
      " 11  WheelTypeID                        6515 non-null   float64\n",
      " 12  WheelType                          6459 non-null   object \n",
      " 13  VehOdo                             6798 non-null   int64  \n",
      " 14  Nationality                        6797 non-null   object \n",
      " 15  Size                               6797 non-null   object \n",
      " 16  TopThreeAmericanName               6797 non-null   object \n",
      " 17  MMRAcquisitionAuctionAveragePrice  6797 non-null   float64\n",
      " 18  MMRAcquisitionAuctionCleanPrice    6797 non-null   float64\n",
      " 19  MMRAcquisitionRetailAveragePrice   6797 non-null   float64\n",
      " 20  MMRAcquisitonRetailCleanPrice      6797 non-null   float64\n",
      " 21  MMRCurrentAuctionAveragePrice      6777 non-null   float64\n",
      " 22  MMRCurrentAuctionCleanPrice        6777 non-null   float64\n",
      " 23  MMRCurrentRetailAveragePrice       6777 non-null   float64\n",
      " 24  MMRCurrentRetailCleanPrice         6777 non-null   float64\n",
      " 25  BYRNO                              6798 non-null   int64  \n",
      " 26  VNZIP1                             6798 non-null   int64  \n",
      " 27  VehBCost                           6798 non-null   float64\n",
      " 28  IsOnlineSale                       6798 non-null   int64  \n",
      " 29  WarrantyCost                       6798 non-null   int64  \n",
      " 30  IsBadBuy                           6798 non-null   int64  \n",
      "dtypes: float64(10), int64(9), object(12)\n",
      "memory usage: 1.6+ MB\n"
     ]
    }
   ],
   "source": [
    "data.info()"
   ]
  },
  {
   "cell_type": "code",
   "execution_count": 11,
   "metadata": {},
   "outputs": [
    {
     "data": {
      "text/plain": [
       "PurchDate                  0\n",
       "Auction                 3815\n",
       "Make                       0\n",
       "Model                      0\n",
       "Trim                     232\n",
       "SubModel                   0\n",
       "Color                      0\n",
       "Transmission               0\n",
       "WheelType                339\n",
       "Nationality                1\n",
       "Size                       1\n",
       "TopThreeAmericanName       1\n",
       "dtype: int64"
      ]
     },
     "execution_count": 11,
     "metadata": {},
     "output_type": "execute_result"
    }
   ],
   "source": [
    "data.select_dtypes(include = 'object').isnull().sum()"
   ]
  },
  {
   "cell_type": "code",
   "execution_count": 12,
   "metadata": {},
   "outputs": [],
   "source": [
    "obj_na_cols = data[data.select_dtypes(include = 'object').columns[data.select_dtypes(include = 'object').isnull().sum() > 0]].columns"
   ]
  },
  {
   "cell_type": "code",
   "execution_count": 13,
   "metadata": {},
   "outputs": [],
   "source": [
    "num_na_cols = data[data.select_dtypes(exclude = 'object').columns[data.select_dtypes(exclude = 'object').isnull().sum() > 0]].columns"
   ]
  },
  {
   "cell_type": "code",
   "execution_count": 14,
   "metadata": {},
   "outputs": [
    {
     "data": {
      "text/plain": [
       "Index(['WheelTypeID', 'MMRAcquisitionAuctionAveragePrice',\n",
       "       'MMRAcquisitionAuctionCleanPrice', 'MMRAcquisitionRetailAveragePrice',\n",
       "       'MMRAcquisitonRetailCleanPrice', 'MMRCurrentAuctionAveragePrice',\n",
       "       'MMRCurrentAuctionCleanPrice', 'MMRCurrentRetailAveragePrice',\n",
       "       'MMRCurrentRetailCleanPrice'],\n",
       "      dtype='object')"
      ]
     },
     "execution_count": 14,
     "metadata": {},
     "output_type": "execute_result"
    }
   ],
   "source": [
    "num_na_cols"
   ]
  },
  {
   "cell_type": "code",
   "execution_count": 15,
   "metadata": {},
   "outputs": [],
   "source": [
    "data[num_na_cols] = data[num_na_cols].fillna(data[num_na_cols].median())"
   ]
  },
  {
   "cell_type": "code",
   "execution_count": 16,
   "metadata": {},
   "outputs": [],
   "source": [
    "data = data.fillna(data.mode().iloc[0])"
   ]
  },
  {
   "cell_type": "code",
   "execution_count": 17,
   "metadata": {},
   "outputs": [
    {
     "name": "stdout",
     "output_type": "stream",
     "text": [
      "<class 'pandas.core.frame.DataFrame'>\n",
      "RangeIndex: 6798 entries, 0 to 6797\n",
      "Data columns (total 31 columns):\n",
      " #   Column                             Non-Null Count  Dtype  \n",
      "---  ------                             --------------  -----  \n",
      " 0   RefId                              6798 non-null   int64  \n",
      " 1   PurchDate                          6798 non-null   object \n",
      " 2   Auction                            6798 non-null   object \n",
      " 3   VehYear                            6798 non-null   int64  \n",
      " 4   VehicleAge                         6798 non-null   int64  \n",
      " 5   Make                               6798 non-null   object \n",
      " 6   Model                              6798 non-null   object \n",
      " 7   Trim                               6798 non-null   object \n",
      " 8   SubModel                           6798 non-null   object \n",
      " 9   Color                              6798 non-null   object \n",
      " 10  Transmission                       6798 non-null   object \n",
      " 11  WheelTypeID                        6798 non-null   float64\n",
      " 12  WheelType                          6798 non-null   object \n",
      " 13  VehOdo                             6798 non-null   int64  \n",
      " 14  Nationality                        6798 non-null   object \n",
      " 15  Size                               6798 non-null   object \n",
      " 16  TopThreeAmericanName               6798 non-null   object \n",
      " 17  MMRAcquisitionAuctionAveragePrice  6798 non-null   float64\n",
      " 18  MMRAcquisitionAuctionCleanPrice    6798 non-null   float64\n",
      " 19  MMRAcquisitionRetailAveragePrice   6798 non-null   float64\n",
      " 20  MMRAcquisitonRetailCleanPrice      6798 non-null   float64\n",
      " 21  MMRCurrentAuctionAveragePrice      6798 non-null   float64\n",
      " 22  MMRCurrentAuctionCleanPrice        6798 non-null   float64\n",
      " 23  MMRCurrentRetailAveragePrice       6798 non-null   float64\n",
      " 24  MMRCurrentRetailCleanPrice         6798 non-null   float64\n",
      " 25  BYRNO                              6798 non-null   int64  \n",
      " 26  VNZIP1                             6798 non-null   int64  \n",
      " 27  VehBCost                           6798 non-null   float64\n",
      " 28  IsOnlineSale                       6798 non-null   int64  \n",
      " 29  WarrantyCost                       6798 non-null   int64  \n",
      " 30  IsBadBuy                           6798 non-null   int64  \n",
      "dtypes: float64(10), int64(9), object(12)\n",
      "memory usage: 1.6+ MB\n"
     ]
    }
   ],
   "source": [
    "data.info()"
   ]
  },
  {
   "cell_type": "code",
   "execution_count": 18,
   "metadata": {},
   "outputs": [],
   "source": [
    "obj_cols = data[data.select_dtypes(include = 'object').columns].columns"
   ]
  },
  {
   "cell_type": "code",
   "execution_count": 19,
   "metadata": {},
   "outputs": [
    {
     "data": {
      "text/plain": [
       "Index(['PurchDate', 'Auction', 'Make', 'Model', 'Trim', 'SubModel', 'Color',\n",
       "       'Transmission', 'WheelType', 'Nationality', 'Size',\n",
       "       'TopThreeAmericanName'],\n",
       "      dtype='object')"
      ]
     },
     "execution_count": 19,
     "metadata": {},
     "output_type": "execute_result"
    }
   ],
   "source": [
    "obj_cols"
   ]
  },
  {
   "cell_type": "code",
   "execution_count": 20,
   "metadata": {},
   "outputs": [
    {
     "data": {
      "text/plain": [
       "PurchDate               503\n",
       "Auction                   2\n",
       "Make                     32\n",
       "Model                   632\n",
       "Trim                    104\n",
       "SubModel                465\n",
       "Color                    16\n",
       "Transmission              2\n",
       "WheelType                 2\n",
       "Nationality               4\n",
       "Size                     12\n",
       "TopThreeAmericanName      4\n",
       "dtype: int64"
      ]
     },
     "execution_count": 20,
     "metadata": {},
     "output_type": "execute_result"
    }
   ],
   "source": [
    "data[obj_cols].nunique()"
   ]
  },
  {
   "cell_type": "code",
   "execution_count": 21,
   "metadata": {},
   "outputs": [],
   "source": [
    "data = data.drop('PurchDate', 1)"
   ]
  },
  {
   "cell_type": "code",
   "execution_count": 22,
   "metadata": {},
   "outputs": [],
   "source": [
    "data['Auction'] = data['Auction'].map({'ADESA' : 0, 'OTHER' : 1})\n",
    "data['Transmission'] = data['Transmission'].map({'AUTO' : 0, 'MANUAL' : 1})\n",
    "data['WheelType'] = data['WheelType'].map({'Covers' : 0, 'Alloy' : 1})"
   ]
  },
  {
   "cell_type": "code",
   "execution_count": 23,
   "metadata": {},
   "outputs": [
    {
     "data": {
      "text/plain": [
       "array(['MEDIUM', 'COMPACT', 'LARGE TRUCK', 'MEDIUM SUV', 'SPECIALTY',\n",
       "       'SMALL TRUCK', 'LARGE', 'LARGE SUV', 'CROSSOVER', 'SPORTS', 'VAN',\n",
       "       'SMALL SUV'], dtype=object)"
      ]
     },
     "execution_count": 23,
     "metadata": {},
     "output_type": "execute_result"
    }
   ],
   "source": [
    "data['Size'].unique()"
   ]
  },
  {
   "cell_type": "code",
   "execution_count": 24,
   "metadata": {},
   "outputs": [],
   "source": [
    "dict_size = {'SPORTS' : 0, 'COMPACT' : 1, 'SMALL SUV' : 2, \"MEDIUM\" : 3, \"VAN\" : 4, \"SMALL TRUCK\" : 5, \"MEDIUM SUV\" : 6,\n",
    "            \"LARGE\" : 7, \"CROSSOVER\" : 8, \"LARGE SUV\" : 9, \"LARGE TRUCK\" : 10, \"SPECIALTY\" : 11}"
   ]
  },
  {
   "cell_type": "code",
   "execution_count": 25,
   "metadata": {},
   "outputs": [],
   "source": [
    "data['Size'] = data['Size'].map(dict_size)"
   ]
  },
  {
   "cell_type": "code",
   "execution_count": 26,
   "metadata": {},
   "outputs": [],
   "source": [
    "series_model = pd.value_counts(data['Model'])\n",
    "mask_model = (series_model/series_model.sum() * 100).lt(1)\n",
    "data['Model'] = np.where(data['Model'].isin(series_model[mask_model].index), 'Other', data['Model'])"
   ]
  },
  {
   "cell_type": "code",
   "execution_count": 27,
   "metadata": {},
   "outputs": [],
   "source": [
    "series_trim = pd.value_counts(data['Trim'])\n",
    "mask_trim = (series_trim/series_trim.sum() * 100).lt(1)\n",
    "data['Trim'] = np.where(data['Trim'].isin(series_trim[mask_trim].index), 'Other', data['Trim'])"
   ]
  },
  {
   "cell_type": "code",
   "execution_count": 28,
   "metadata": {},
   "outputs": [],
   "source": [
    "words = ['Sedan', 'Wagon', 'SUV', 'Minivan', 'Coupe', 'Cab', 'Utility']"
   ]
  },
  {
   "cell_type": "code",
   "execution_count": 29,
   "metadata": {},
   "outputs": [],
   "source": [
    "data.loc[data['SubModel'].str.contains('sedan', case = False), 'SubModel'] = 'Sedan'\n",
    "data.loc[data['SubModel'].str.contains('wagon', case = False), 'SubModel'] = 'Wagon'\n",
    "data.loc[data['SubModel'].str.contains('suv', case = False), 'SubModel'] = 'SUV'\n",
    "data.loc[data['SubModel'].str.contains('minivan', case = False), 'SubModel'] = 'Minivan'\n",
    "data.loc[data['SubModel'].str.contains('coupe', case = False), 'SubModel'] = 'Coupe'\n",
    "data.loc[data['SubModel'].str.contains('cab', case = False), 'SubModel'] = 'Cab'\n",
    "data.loc[data['SubModel'].str.contains('utility', case = False), 'SubModel'] = 'Utility'\n",
    "data.loc[~data['SubModel'].str.contains('|'.join(words)), 'SubModel'] = 'Other'"
   ]
  },
  {
   "cell_type": "code",
   "execution_count": 30,
   "metadata": {},
   "outputs": [
    {
     "data": {
      "text/plain": [
       "array(['MAROON', 'SILVER', 'WHITE', 'GOLD', 'RED', 'GREY', 'PURPLE',\n",
       "       'BLACK', 'BROWN', 'YELLOW', 'BLUE', 'GREEN', 'BEIGE', 'OTHER',\n",
       "       'ORANGE', 'NOT AVAIL'], dtype=object)"
      ]
     },
     "execution_count": 30,
     "metadata": {},
     "output_type": "execute_result"
    }
   ],
   "source": [
    "data['Color'].unique()"
   ]
  },
  {
   "cell_type": "code",
   "execution_count": 31,
   "metadata": {},
   "outputs": [],
   "source": [
    "light = ['WHITE', 'SILVER', 'BEIGE']\n",
    "dark = ['MAROON', 'BROWN', 'BLACK']\n",
    "colored = ['GOLD', 'RED', 'GREY', 'PURPLE', 'YELLOW', 'BLUE', 'GREEN', 'ORANGE']\n",
    "other = ['NOT AVAIL', 'OTHER']"
   ]
  },
  {
   "cell_type": "code",
   "execution_count": 32,
   "metadata": {},
   "outputs": [],
   "source": [
    "data.loc[data['Color'].str.contains('|'.join(light)), 'Color'] = \"Light\"\n",
    "data.loc[data['Color'].str.contains('|'.join(dark)), 'Color'] = \"Dark\"\n",
    "data.loc[data['Color'].str.contains('|'.join(colored)), 'Color'] = \"Colored\"\n",
    "data.loc[data['Color'].str.contains('|'.join(other)), 'Color'] = \"Other\""
   ]
  },
  {
   "cell_type": "code",
   "execution_count": 33,
   "metadata": {
    "scrolled": true
   },
   "outputs": [
    {
     "data": {
      "text/plain": [
       "Other                   4867\n",
       "PT CRUISER               216\n",
       "IMPALA                   194\n",
       "TAURUS                   128\n",
       "CARAVAN GRAND FWD V6     118\n",
       "CALIBER                  117\n",
       "1500 RAM PICKUP 2WD      111\n",
       "TAURUS 3.0L V6 EFI       111\n",
       "PT CRUISER 2.4L I4 S     106\n",
       "MALIBU 4C                104\n",
       "SEBRING 4C                99\n",
       "STRATUS V6 2.7L V6 M      86\n",
       "IMPALA V6                 85\n",
       "GRAND PRIX                83\n",
       "GRAND PRIX 3.8L V6 S      83\n",
       "FOCUS                     76\n",
       "COBALT                    75\n",
       "ION                       71\n",
       "AVENGER 4C                68\n",
       "Name: Model, dtype: int64"
      ]
     },
     "execution_count": 33,
     "metadata": {},
     "output_type": "execute_result"
    }
   ],
   "source": [
    "data['Model'].value_counts()"
   ]
  },
  {
   "cell_type": "code",
   "execution_count": 34,
   "metadata": {},
   "outputs": [
    {
     "name": "stdout",
     "output_type": "stream",
     "text": [
      "<class 'pandas.core.frame.DataFrame'>\n",
      "RangeIndex: 6798 entries, 0 to 6797\n",
      "Data columns (total 30 columns):\n",
      " #   Column                             Non-Null Count  Dtype  \n",
      "---  ------                             --------------  -----  \n",
      " 0   RefId                              6798 non-null   int64  \n",
      " 1   Auction                            6798 non-null   int64  \n",
      " 2   VehYear                            6798 non-null   int64  \n",
      " 3   VehicleAge                         6798 non-null   int64  \n",
      " 4   Make                               6798 non-null   object \n",
      " 5   Model                              6798 non-null   object \n",
      " 6   Trim                               6798 non-null   object \n",
      " 7   SubModel                           6798 non-null   object \n",
      " 8   Color                              6798 non-null   object \n",
      " 9   Transmission                       6798 non-null   int64  \n",
      " 10  WheelTypeID                        6798 non-null   float64\n",
      " 11  WheelType                          6798 non-null   int64  \n",
      " 12  VehOdo                             6798 non-null   int64  \n",
      " 13  Nationality                        6798 non-null   object \n",
      " 14  Size                               6798 non-null   int64  \n",
      " 15  TopThreeAmericanName               6798 non-null   object \n",
      " 16  MMRAcquisitionAuctionAveragePrice  6798 non-null   float64\n",
      " 17  MMRAcquisitionAuctionCleanPrice    6798 non-null   float64\n",
      " 18  MMRAcquisitionRetailAveragePrice   6798 non-null   float64\n",
      " 19  MMRAcquisitonRetailCleanPrice      6798 non-null   float64\n",
      " 20  MMRCurrentAuctionAveragePrice      6798 non-null   float64\n",
      " 21  MMRCurrentAuctionCleanPrice        6798 non-null   float64\n",
      " 22  MMRCurrentRetailAveragePrice       6798 non-null   float64\n",
      " 23  MMRCurrentRetailCleanPrice         6798 non-null   float64\n",
      " 24  BYRNO                              6798 non-null   int64  \n",
      " 25  VNZIP1                             6798 non-null   int64  \n",
      " 26  VehBCost                           6798 non-null   float64\n",
      " 27  IsOnlineSale                       6798 non-null   int64  \n",
      " 28  WarrantyCost                       6798 non-null   int64  \n",
      " 29  IsBadBuy                           6798 non-null   int64  \n",
      "dtypes: float64(10), int64(13), object(7)\n",
      "memory usage: 1.6+ MB\n"
     ]
    }
   ],
   "source": [
    "data.info()"
   ]
  },
  {
   "cell_type": "code",
   "execution_count": 35,
   "metadata": {},
   "outputs": [],
   "source": [
    "data = data.drop('VehicleAge', 1)"
   ]
  },
  {
   "cell_type": "code",
   "execution_count": 36,
   "metadata": {},
   "outputs": [
    {
     "data": {
      "text/plain": [
       "<matplotlib.axes._subplots.AxesSubplot at 0x2131a9fdc40>"
      ]
     },
     "execution_count": 36,
     "metadata": {},
     "output_type": "execute_result"
    },
    {
     "data": {
      "image/png": "[encoded data removed]",
      "text/plain": [
       "<Figure size 1080x1080 with 2 Axes>"
      ]
     },
     "metadata": {
      "needs_background": "light"
     },
     "output_type": "display_data"
    }
   ],
   "source": [
    "corr_mat = data.corr().abs()\n",
    "plt.figure(figsize = (15,15))\n",
    "sns.heatmap(corr_mat, \n",
    "            xticklabels=corr_mat.columns.values,\n",
    "            yticklabels=corr_mat.columns.values, annot = True)"
   ]
  },
  {
   "cell_type": "code",
   "execution_count": 37,
   "metadata": {},
   "outputs": [],
   "source": [
    "dummy_data = pd.get_dummies(data)"
   ]
  },
  {
   "cell_type": "code",
   "execution_count": 38,
   "metadata": {},
   "outputs": [
    {
     "name": "stdout",
     "output_type": "stream",
     "text": [
      "<class 'pandas.core.frame.DataFrame'>\n",
      "RangeIndex: 6798 entries, 0 to 6797\n",
      "Columns: 114 entries, RefId to TopThreeAmericanName_OTHER\n",
      "dtypes: float64(10), int64(12), uint8(92)\n",
      "memory usage: 1.7 MB\n"
     ]
    }
   ],
   "source": [
    "dummy_data.info()"
   ]
  },
  {
   "cell_type": "code",
   "execution_count": 39,
   "metadata": {},
   "outputs": [],
   "source": [
    "X = dummy_data.drop('IsBadBuy', 1)\n",
    "y = dummy_data['IsBadBuy']"
   ]
  },
  {
   "cell_type": "code",
   "execution_count": 40,
   "metadata": {},
   "outputs": [],
   "source": [
    "from sklearn.preprocessing import MinMaxScaler\n",
    "from sklearn.model_selection import train_test_split\n",
    "from sklearn.metrics import accuracy_score\n",
    "from sklearn.metrics import f1_score\n",
    "from sklearn.metrics import recall_score\n",
    "from sklearn.metrics import precision_score\n",
    "from sklearn.metrics import roc_auc_score\n",
    "from sklearn.model_selection import cross_val_score\n",
    "from sklearn.model_selection import cross_validate\n",
    "from sklearn.neighbors import KNeighborsClassifier"
   ]
  },
  {
   "cell_type": "code",
   "execution_count": 41,
   "metadata": {},
   "outputs": [],
   "source": [
    "X_tr, X_te, y_train, y_test = train_test_split(X, y, test_size=0.3)"
   ]
  },
  {
   "cell_type": "code",
   "execution_count": 42,
   "metadata": {},
   "outputs": [],
   "source": [
    "normalizer = MinMaxScaler()\n",
    "normalizer.fit(X_tr)\n",
    "X_train = normalizer.transform(X_tr)\n",
    "X_train = pd.DataFrame(X_train)\n",
    "X_train.columns = X_tr.columns\n",
    "X_test = normalizer.transform(X_te)\n",
    "X_test = pd.DataFrame(X_test)\n",
    "X_test.columns = X_te.columns"
   ]
  },
  {
   "cell_type": "code",
   "execution_count": 43,
   "metadata": {},
   "outputs": [],
   "source": [
    "metrics = ['accuracy', 'precision', 'recall', 'f1']"
   ]
  },
  {
   "cell_type": "code",
   "execution_count": 44,
   "metadata": {},
   "outputs": [],
   "source": [
    "def get_metrics(y, y_pred):\n",
    "    print(f'Accuracy: {accuracy_score(y, y_pred)}')\n",
    "    print(f'Precision: {precision_score(y, y_pred)}')\n",
    "    print(f'Recall: {recall_score(y, y_pred)}')\n",
    "    print(f'F1: {f1_score(y, y_pred)}')\n",
    "\n",
    "def get_cv(model, X, y):\n",
    "    acc = cross_val_score(model, X, y, cv=10, scoring='accuracy')\n",
    "    prec = cross_val_score(model, X, y, cv=10, scoring='precision')\n",
    "    recall = cross_val_score(model, X, y, cv=10, scoring='recall')\n",
    "    f1 = cross_val_score(model, X, y, cv=10, scoring='f1')\n",
    "    print(\"Acc: \", acc.mean())\n",
    "    print(\"Prec: \", prec.mean())\n",
    "    print(\"Recall: \", recall.mean())\n",
    "    print(\"F1: \", f1.mean())"
   ]
  },
  {
   "cell_type": "markdown",
   "metadata": {},
   "source": [
    "## KNN default params"
   ]
  },
  {
   "cell_type": "code",
   "execution_count": 45,
   "metadata": {},
   "outputs": [
    {
     "data": {
      "text/plain": [
       "KNeighborsClassifier()"
      ]
     },
     "execution_count": 45,
     "metadata": {},
     "output_type": "execute_result"
    }
   ],
   "source": [
    "model_knn = KNeighborsClassifier()\n",
    "model_knn.fit(X_train, y_train)"
   ]
  },
  {
   "cell_type": "markdown",
   "metadata": {},
   "source": [
    "## KNN evaluacija na trening setu"
   ]
  },
  {
   "cell_type": "code",
   "execution_count": 46,
   "metadata": {},
   "outputs": [],
   "source": [
    "y_pred_knn = model_knn.predict(X_train)"
   ]
  },
  {
   "cell_type": "code",
   "execution_count": 114,
   "metadata": {},
   "outputs": [
    {
     "name": "stdout",
     "output_type": "stream",
     "text": [
      "Accuracy: 0.8793610760823876\n",
      "Precision: 0.6287878787878788\n",
      "Recall: 0.13651315789473684\n",
      "F1: 0.2243243243243243\n"
     ]
    }
   ],
   "source": [
    "knn_metrics_default = get_metrics(y_train, y_pred_knn)"
   ]
  },
  {
   "cell_type": "code",
   "execution_count": 115,
   "metadata": {},
   "outputs": [],
   "source": []
  },
  {
   "cell_type": "code",
   "execution_count": 48,
   "metadata": {},
   "outputs": [
    {
     "name": "stdout",
     "output_type": "stream",
     "text": [
      "Acc:  0.8581326846528086\n",
      "Prec:  0.2061868686868687\n",
      "Recall:  0.03781420765027323\n",
      "F1:  0.0632923265000489\n"
     ]
    }
   ],
   "source": [
    "get_cv(model_knn, X_train, y_train)"
   ]
  },
  {
   "cell_type": "markdown",
   "metadata": {},
   "source": [
    "## KNN evaluacija na test setu"
   ]
  },
  {
   "cell_type": "code",
   "execution_count": 49,
   "metadata": {},
   "outputs": [
    {
     "name": "stdout",
     "output_type": "stream",
     "text": [
      "Accuracy: 0.8529411764705882\n",
      "Precision: 0.09615384615384616\n",
      "Recall: 0.01937984496124031\n",
      "F1: 0.03225806451612903\n"
     ]
    }
   ],
   "source": [
    "y_pred_knn_test = model_knn.predict(X_test)\n",
    "get_metrics(y_test, y_pred_knn_test)"
   ]
  },
  {
   "cell_type": "markdown",
   "metadata": {},
   "source": [
    "## Tree default params"
   ]
  },
  {
   "cell_type": "code",
   "execution_count": 50,
   "metadata": {},
   "outputs": [],
   "source": [
    "from sklearn.tree import DecisionTreeClassifier"
   ]
  },
  {
   "cell_type": "code",
   "execution_count": 51,
   "metadata": {},
   "outputs": [
    {
     "data": {
      "text/plain": [
       "DecisionTreeClassifier()"
      ]
     },
     "execution_count": 51,
     "metadata": {},
     "output_type": "execute_result"
    }
   ],
   "source": [
    "model_tree = DecisionTreeClassifier()\n",
    "model_tree.fit(X_train, y_train)"
   ]
  },
  {
   "cell_type": "code",
   "execution_count": 52,
   "metadata": {},
   "outputs": [],
   "source": [
    "y_pred_tree = model_tree.predict(X_train)"
   ]
  },
  {
   "cell_type": "markdown",
   "metadata": {},
   "source": [
    "## Tree evaluacija na trening setu"
   ]
  },
  {
   "cell_type": "code",
   "execution_count": 53,
   "metadata": {},
   "outputs": [
    {
     "name": "stdout",
     "output_type": "stream",
     "text": [
      "Accuracy: 1.0\n",
      "Precision: 1.0\n",
      "Recall: 1.0\n",
      "F1: 1.0\n"
     ]
    }
   ],
   "source": [
    "get_metrics(y_train, y_pred_tree)"
   ]
  },
  {
   "cell_type": "code",
   "execution_count": 54,
   "metadata": {},
   "outputs": [
    {
     "name": "stdout",
     "output_type": "stream",
     "text": [
      "Acc:  0.7744904909332154\n",
      "Prec:  0.14745804386671257\n",
      "Recall:  0.1660928961748634\n",
      "F1:  0.16479981866457225\n"
     ]
    }
   ],
   "source": [
    "get_cv(model_tree, X_train, y_train)"
   ]
  },
  {
   "cell_type": "markdown",
   "metadata": {},
   "source": [
    "### Tree evaluacija na test setu"
   ]
  },
  {
   "cell_type": "code",
   "execution_count": 55,
   "metadata": {},
   "outputs": [
    {
     "name": "stdout",
     "output_type": "stream",
     "text": [
      "Accuracy: 0.7799019607843137\n",
      "Precision: 0.20972644376899696\n",
      "Recall: 0.26744186046511625\n",
      "F1: 0.23509369676320271\n"
     ]
    }
   ],
   "source": [
    "y_pred_tree_test = model_tree.predict(X_test)\n",
    "get_metrics(y_test, y_pred_tree_test)"
   ]
  },
  {
   "cell_type": "markdown",
   "metadata": {},
   "source": [
    "## RandomForest default params"
   ]
  },
  {
   "cell_type": "code",
   "execution_count": 56,
   "metadata": {},
   "outputs": [],
   "source": [
    "from sklearn.ensemble import RandomForestClassifier"
   ]
  },
  {
   "cell_type": "code",
   "execution_count": 57,
   "metadata": {},
   "outputs": [
    {
     "data": {
      "text/plain": [
       "RandomForestClassifier()"
      ]
     },
     "execution_count": 57,
     "metadata": {},
     "output_type": "execute_result"
    }
   ],
   "source": [
    "model_rf = RandomForestClassifier()\n",
    "model_rf.fit(X_train, y_train)"
   ]
  },
  {
   "cell_type": "code",
   "execution_count": 58,
   "metadata": {},
   "outputs": [],
   "source": [
    "y_pred_rf = model_rf.predict(X_train)"
   ]
  },
  {
   "cell_type": "markdown",
   "metadata": {},
   "source": [
    "## RandomForest evaluacija na trening setu"
   ]
  },
  {
   "cell_type": "code",
   "execution_count": 59,
   "metadata": {},
   "outputs": [
    {
     "name": "stdout",
     "output_type": "stream",
     "text": [
      "Accuracy: 1.0\n",
      "Precision: 1.0\n",
      "Recall: 1.0\n",
      "F1: 1.0\n"
     ]
    }
   ],
   "source": [
    "get_metrics(y_train, y_pred_rf)"
   ]
  },
  {
   "cell_type": "markdown",
   "metadata": {},
   "source": [
    "## RandomForest evaluacija na test setu"
   ]
  },
  {
   "cell_type": "code",
   "execution_count": 60,
   "metadata": {},
   "outputs": [],
   "source": [
    "y_pred_rf_test = model_rf.predict(X_test)"
   ]
  },
  {
   "cell_type": "code",
   "execution_count": 61,
   "metadata": {},
   "outputs": [
    {
     "name": "stdout",
     "output_type": "stream",
     "text": [
      "Accuracy: 0.875\n",
      "Precision: 0.7142857142857143\n",
      "Recall: 0.01937984496124031\n",
      "F1: 0.03773584905660377\n"
     ]
    }
   ],
   "source": [
    "get_metrics(y_test, y_pred_rf_test)"
   ]
  },
  {
   "cell_type": "code",
   "execution_count": null,
   "metadata": {},
   "outputs": [],
   "source": []
  },
  {
   "cell_type": "markdown",
   "metadata": {},
   "source": [
    "# Selekcija atributa"
   ]
  },
  {
   "cell_type": "code",
   "execution_count": 62,
   "metadata": {},
   "outputs": [],
   "source": [
    "from sklearn.feature_selection import VarianceThreshold"
   ]
  },
  {
   "cell_type": "code",
   "execution_count": 63,
   "metadata": {},
   "outputs": [
    {
     "data": {
      "text/plain": [
       "VarianceThreshold(threshold=0.04750000000000004)"
      ]
     },
     "execution_count": 63,
     "metadata": {},
     "output_type": "execute_result"
    }
   ],
   "source": [
    "selection = VarianceThreshold(0.95 * (1 - 0.95))\n",
    "selection.fit(X_train)"
   ]
  },
  {
   "cell_type": "code",
   "execution_count": 64,
   "metadata": {},
   "outputs": [],
   "source": [
    "X_train_reduced = X_train.loc[:, selection.get_support()]"
   ]
  },
  {
   "cell_type": "code",
   "execution_count": 65,
   "metadata": {},
   "outputs": [
    {
     "data": {
      "text/plain": [
       "(4758, 33)"
      ]
     },
     "execution_count": 65,
     "metadata": {},
     "output_type": "execute_result"
    }
   ],
   "source": [
    "X_train_reduced.shape"
   ]
  },
  {
   "cell_type": "code",
   "execution_count": 66,
   "metadata": {},
   "outputs": [
    {
     "data": {
      "text/plain": [
       "(4758, 113)"
      ]
     },
     "execution_count": 66,
     "metadata": {},
     "output_type": "execute_result"
    }
   ],
   "source": [
    "X_train.shape"
   ]
  },
  {
   "cell_type": "code",
   "execution_count": 67,
   "metadata": {},
   "outputs": [],
   "source": [
    "X_test_reduced = X_test.loc[:, selection.get_support()]"
   ]
  },
  {
   "cell_type": "code",
   "execution_count": 68,
   "metadata": {},
   "outputs": [
    {
     "data": {
      "text/plain": [
       "(2040, 33)"
      ]
     },
     "execution_count": 68,
     "metadata": {},
     "output_type": "execute_result"
    }
   ],
   "source": [
    "X_test_reduced.shape"
   ]
  },
  {
   "cell_type": "markdown",
   "metadata": {},
   "source": [
    "### KNN sa selektovanim atributima"
   ]
  },
  {
   "cell_type": "code",
   "execution_count": 69,
   "metadata": {},
   "outputs": [
    {
     "data": {
      "text/plain": [
       "KNeighborsClassifier()"
      ]
     },
     "execution_count": 69,
     "metadata": {},
     "output_type": "execute_result"
    }
   ],
   "source": [
    "model_knn_reduced = KNeighborsClassifier()\n",
    "model_knn_reduced.fit(X_train_reduced, y_train)"
   ]
  },
  {
   "cell_type": "markdown",
   "metadata": {},
   "source": [
    "### KNN evaluacija trening set"
   ]
  },
  {
   "cell_type": "code",
   "execution_count": 70,
   "metadata": {},
   "outputs": [],
   "source": [
    "y_pred_knn_reduced = model_knn_reduced.predict(X_train_reduced)"
   ]
  },
  {
   "cell_type": "code",
   "execution_count": 71,
   "metadata": {},
   "outputs": [
    {
     "name": "stdout",
     "output_type": "stream",
     "text": [
      "Accuracy: 0.880201765447667\n",
      "Precision: 0.6979166666666666\n",
      "Recall: 0.11019736842105263\n",
      "F1: 0.1903409090909091\n"
     ]
    }
   ],
   "source": [
    "get_metrics(y_train, y_pred_knn_reduced)"
   ]
  },
  {
   "cell_type": "code",
   "execution_count": 72,
   "metadata": {},
   "outputs": [
    {
     "name": "stdout",
     "output_type": "stream",
     "text": [
      "Acc:  0.8568743918620079\n",
      "Prec:  0.16321733821733822\n",
      "Recall:  0.031229508196721312\n",
      "F1:  0.052310553932008695\n"
     ]
    }
   ],
   "source": [
    "get_cv(model_knn_reduced, X_train_reduced, y_train)"
   ]
  },
  {
   "cell_type": "markdown",
   "metadata": {},
   "source": [
    "### KNN evaluacija test set"
   ]
  },
  {
   "cell_type": "code",
   "execution_count": 73,
   "metadata": {},
   "outputs": [],
   "source": [
    "y_pred_knn_test_reduced = model_knn_reduced.predict(X_test_reduced)"
   ]
  },
  {
   "cell_type": "code",
   "execution_count": 74,
   "metadata": {},
   "outputs": [
    {
     "name": "stdout",
     "output_type": "stream",
     "text": [
      "Accuracy: 0.8598039215686275\n",
      "Precision: 0.22\n",
      "Recall: 0.04263565891472868\n",
      "F1: 0.07142857142857142\n"
     ]
    }
   ],
   "source": [
    "get_metrics(y_test, y_pred_knn_test_reduced)"
   ]
  },
  {
   "cell_type": "markdown",
   "metadata": {},
   "source": [
    "## Tree sa selektovanim atributima"
   ]
  },
  {
   "cell_type": "code",
   "execution_count": 77,
   "metadata": {},
   "outputs": [
    {
     "data": {
      "text/plain": [
       "DecisionTreeClassifier()"
      ]
     },
     "execution_count": 77,
     "metadata": {},
     "output_type": "execute_result"
    }
   ],
   "source": [
    "model_tree_reduced = DecisionTreeClassifier()\n",
    "model_tree_reduced.fit(X_train_reduced, y_train)"
   ]
  },
  {
   "cell_type": "markdown",
   "metadata": {},
   "source": [
    "### Tree evalacija trening set"
   ]
  },
  {
   "cell_type": "code",
   "execution_count": 78,
   "metadata": {},
   "outputs": [],
   "source": [
    "y_pred_tree_reduced = model_tree_reduced.predict(X_train_reduced)"
   ]
  },
  {
   "cell_type": "code",
   "execution_count": 79,
   "metadata": {},
   "outputs": [
    {
     "name": "stdout",
     "output_type": "stream",
     "text": [
      "Accuracy: 1.0\n",
      "Precision: 1.0\n",
      "Recall: 1.0\n",
      "F1: 1.0\n"
     ]
    }
   ],
   "source": [
    "get_metrics(y_train, y_pred_tree_reduced)"
   ]
  },
  {
   "cell_type": "code",
   "execution_count": 80,
   "metadata": {},
   "outputs": [
    {
     "name": "stdout",
     "output_type": "stream",
     "text": [
      "Acc:  0.7690137107474568\n",
      "Prec:  0.14965922071155396\n",
      "Recall:  0.18081967213114752\n",
      "F1:  0.1635648575390255\n"
     ]
    }
   ],
   "source": [
    "get_cv(model_tree_reduced, X_train_reduced, y_train)"
   ]
  },
  {
   "cell_type": "markdown",
   "metadata": {},
   "source": [
    "### Tree evaluacija test set"
   ]
  },
  {
   "cell_type": "code",
   "execution_count": 81,
   "metadata": {},
   "outputs": [],
   "source": [
    "y_pred_tree_test_reduced = model_tree_reduced.predict(X_test_reduced)"
   ]
  },
  {
   "cell_type": "code",
   "execution_count": 82,
   "metadata": {},
   "outputs": [
    {
     "name": "stdout",
     "output_type": "stream",
     "text": [
      "Accuracy: 0.7813725490196078\n",
      "Precision: 0.1780821917808219\n",
      "Recall: 0.20155038759689922\n",
      "F1: 0.1890909090909091\n"
     ]
    }
   ],
   "source": [
    "get_metrics(y_test, y_pred_tree_test_reduced)"
   ]
  },
  {
   "cell_type": "markdown",
   "metadata": {},
   "source": [
    "## RandomForest sa selektovanim atributima"
   ]
  },
  {
   "cell_type": "code",
   "execution_count": 83,
   "metadata": {},
   "outputs": [
    {
     "data": {
      "text/plain": [
       "RandomForestClassifier()"
      ]
     },
     "execution_count": 83,
     "metadata": {},
     "output_type": "execute_result"
    }
   ],
   "source": [
    "model_rf_reduced = RandomForestClassifier()\n",
    "model_rf_reduced.fit(X_train_reduced, y_train)"
   ]
  },
  {
   "cell_type": "markdown",
   "metadata": {},
   "source": [
    "### RandomForest evaluacija na trening setu"
   ]
  },
  {
   "cell_type": "code",
   "execution_count": 84,
   "metadata": {},
   "outputs": [],
   "source": [
    "y_pred_rf_reduced = model_rf_reduced.predict(X_train_reduced)"
   ]
  },
  {
   "cell_type": "code",
   "execution_count": 85,
   "metadata": {},
   "outputs": [
    {
     "name": "stdout",
     "output_type": "stream",
     "text": [
      "Accuracy: 1.0\n",
      "Precision: 1.0\n",
      "Recall: 1.0\n",
      "F1: 1.0\n"
     ]
    }
   ],
   "source": [
    "get_metrics(y_train, y_pred_rf_reduced)"
   ]
  },
  {
   "cell_type": "markdown",
   "metadata": {},
   "source": [
    "### RandomForest evaluacija na test setu"
   ]
  },
  {
   "cell_type": "code",
   "execution_count": 86,
   "metadata": {},
   "outputs": [],
   "source": [
    "y_pred_rf_test_reduced = model_rf_reduced.predict(X_test_reduced)"
   ]
  },
  {
   "cell_type": "code",
   "execution_count": 87,
   "metadata": {},
   "outputs": [
    {
     "name": "stdout",
     "output_type": "stream",
     "text": [
      "Accuracy: 0.8637254901960785\n",
      "Precision: 0.2222222222222222\n",
      "Recall: 0.031007751937984496\n",
      "F1: 0.05442176870748299\n"
     ]
    }
   ],
   "source": [
    "get_metrics(y_test, y_pred_rf_test_reduced)"
   ]
  },
  {
   "cell_type": "markdown",
   "metadata": {},
   "source": [
    "## Optimizacija parametara"
   ]
  },
  {
   "cell_type": "code",
   "execution_count": 88,
   "metadata": {},
   "outputs": [],
   "source": [
    "from sklearn.model_selection import GridSearchCV"
   ]
  },
  {
   "cell_type": "markdown",
   "metadata": {},
   "source": [
    "### Optimizacija KNN"
   ]
  },
  {
   "cell_type": "code",
   "execution_count": 89,
   "metadata": {},
   "outputs": [],
   "source": [
    "knn_params = {'n_neighbors' : range(1, 99, 2), 'weights' : ['uniform', 'distance']}"
   ]
  },
  {
   "cell_type": "code",
   "execution_count": 90,
   "metadata": {},
   "outputs": [
    {
     "data": {
      "text/plain": [
       "GridSearchCV(cv=10, estimator=KNeighborsClassifier(),\n",
       "             param_grid={'n_neighbors': range(1, 99, 2),\n",
       "                         'weights': ['uniform', 'distance']},\n",
       "             scoring='recall')"
      ]
     },
     "execution_count": 90,
     "metadata": {},
     "output_type": "execute_result"
    }
   ],
   "source": [
    "grid_knn = GridSearchCV(KNeighborsClassifier(), knn_params, cv=10, scoring='recall')\n",
    "grid_knn.fit(X_train, y_train)"
   ]
  },
  {
   "cell_type": "code",
   "execution_count": 91,
   "metadata": {},
   "outputs": [
    {
     "data": {
      "text/plain": [
       "{'n_neighbors': 1, 'weights': 'uniform'}"
      ]
     },
     "execution_count": 91,
     "metadata": {},
     "output_type": "execute_result"
    }
   ],
   "source": [
    "grid_knn.best_params_"
   ]
  },
  {
   "cell_type": "code",
   "execution_count": 92,
   "metadata": {},
   "outputs": [],
   "source": [
    "best_n = grid_knn.best_params_['n_neighbors']\n",
    "best_weights = grid_knn.best_params_['weights']"
   ]
  },
  {
   "cell_type": "markdown",
   "metadata": {},
   "source": [
    "### Optimizacija Tree"
   ]
  },
  {
   "cell_type": "code",
   "execution_count": 102,
   "metadata": {},
   "outputs": [],
   "source": [
    "tree_params = {'max_depth' : range(10, 200, 10), 'min_samples_split' : range(2, 20, 2), 'criterion' : ['gini', 'entropy']}"
   ]
  },
  {
   "cell_type": "code",
   "execution_count": 103,
   "metadata": {},
   "outputs": [
    {
     "data": {
      "text/plain": [
       "GridSearchCV(cv=10, estimator=DecisionTreeClassifier(),\n",
       "             param_grid={'criterion': ['gini', 'entropy'],\n",
       "                         'max_depth': range(10, 200, 10),\n",
       "                         'min_samples_split': range(2, 20, 2)},\n",
       "             scoring='recall')"
      ]
     },
     "execution_count": 103,
     "metadata": {},
     "output_type": "execute_result"
    }
   ],
   "source": [
    "grid_tree = GridSearchCV(DecisionTreeClassifier(), tree_params, cv=10, scoring='recall')\n",
    "grid_tree.fit(X_train, y_train)"
   ]
  },
  {
   "cell_type": "code",
   "execution_count": 104,
   "metadata": {},
   "outputs": [
    {
     "data": {
      "text/plain": [
       "{'criterion': 'gini', 'max_depth': 160, 'min_samples_split': 2}"
      ]
     },
     "execution_count": 104,
     "metadata": {},
     "output_type": "execute_result"
    }
   ],
   "source": [
    "grid_tree.best_params_"
   ]
  },
  {
   "cell_type": "code",
   "execution_count": 109,
   "metadata": {},
   "outputs": [],
   "source": [
    "best_criterion_tree = grid_tree.best_params_['criterion']\n",
    "best_max_depth_tree = grid_tree.best_params_['max_depth']\n",
    "best_min_samples_split_tree = grid_tree.best_params_['min_samples_split']"
   ]
  },
  {
   "cell_type": "markdown",
   "metadata": {},
   "source": [
    "### Optimizacija RandomForest"
   ]
  },
  {
   "cell_type": "code",
   "execution_count": 106,
   "metadata": {},
   "outputs": [],
   "source": [
    "rf_params = {'n_estimators' : range(10, 100, 10), 'criterion' : ['gini', 'entropy'], 'min_samples_split' : range(2, 20, 2)}"
   ]
  },
  {
   "cell_type": "code",
   "execution_count": 107,
   "metadata": {},
   "outputs": [
    {
     "data": {
      "text/plain": [
       "GridSearchCV(cv=10, estimator=RandomForestClassifier(),\n",
       "             param_grid={'criterion': ['gini', 'entropy'],\n",
       "                         'min_samples_split': range(2, 20, 2),\n",
       "                         'n_estimators': range(10, 100, 10)},\n",
       "             scoring='recall')"
      ]
     },
     "execution_count": 107,
     "metadata": {},
     "output_type": "execute_result"
    }
   ],
   "source": [
    "grid_rf = GridSearchCV(RandomForestClassifier(), rf_params, cv=10, scoring='recall')\n",
    "grid_rf.fit(X_train, y_train)"
   ]
  },
  {
   "cell_type": "code",
   "execution_count": 108,
   "metadata": {},
   "outputs": [
    {
     "data": {
      "text/plain": [
       "{'criterion': 'gini', 'min_samples_split': 2, 'n_estimators': 10}"
      ]
     },
     "execution_count": 108,
     "metadata": {},
     "output_type": "execute_result"
    }
   ],
   "source": [
    "grid_rf.best_params_"
   ]
  },
  {
   "cell_type": "code",
   "execution_count": 110,
   "metadata": {},
   "outputs": [],
   "source": [
    "best_criterion_rf = grid_rf.best_params_['criterion']\n",
    "best_min_samples_split_rf = grid_rf.best_params_['min_samples_split']\n",
    "best_n_estimators = grid_rf.best_params_['n_estimators']"
   ]
  },
  {
   "cell_type": "markdown",
   "metadata": {},
   "source": [
    "## KNN sa optimizovanim parametrima"
   ]
  },
  {
   "cell_type": "code",
   "execution_count": 111,
   "metadata": {},
   "outputs": [
    {
     "name": "stdout",
     "output_type": "stream",
     "text": [
      "Accuracy: 0.7916666666666666\n",
      "Precision: 0.16996047430830039\n",
      "Recall: 0.16666666666666666\n",
      "F1: 0.16829745596868884\n"
     ]
    }
   ],
   "source": [
    "model_knn_optimized = KNeighborsClassifier(n_neighbors = best_n, weights = best_weights)\n",
    "model_knn_optimized.fit(X_train, y_train)\n",
    "y_pred_knn_test_optimized = model_knn_optimized.predict(X_test)\n",
    "get_metrics(y_test, y_pred_knn_test_optimized)"
   ]
  },
  {
   "cell_type": "markdown",
   "metadata": {},
   "source": [
    "## Tree sa optimizovanim parametrima"
   ]
  },
  {
   "cell_type": "code",
   "execution_count": 112,
   "metadata": {},
   "outputs": [
    {
     "name": "stdout",
     "output_type": "stream",
     "text": [
      "Accuracy: 0.7823529411764706\n",
      "Precision: 0.21818181818181817\n",
      "Recall: 0.27906976744186046\n",
      "F1: 0.24489795918367344\n"
     ]
    }
   ],
   "source": [
    "model_tree_optimized = DecisionTreeClassifier(max_depth = best_max_depth_tree, criterion = best_criterion_tree, min_samples_split = best_min_samples_split_tree)\n",
    "model_tree_optimized.fit(X_train, y_train)\n",
    "y_pred_tree_test_optimized = model_tree_optimized.predict(X_test)\n",
    "get_metrics(y_test, y_pred_tree_test_optimized)"
   ]
  },
  {
   "cell_type": "markdown",
   "metadata": {},
   "source": [
    "## RandomForest sa optimizovanim parametrima"
   ]
  },
  {
   "cell_type": "code",
   "execution_count": 113,
   "metadata": {},
   "outputs": [
    {
     "name": "stdout",
     "output_type": "stream",
     "text": [
      "Accuracy: 0.8681372549019608\n",
      "Precision: 0.2962962962962963\n",
      "Recall: 0.031007751937984496\n",
      "F1: 0.05614035087719298\n"
     ]
    }
   ],
   "source": [
    "model_rf_optimized = RandomForestClassifier(n_estimators = best_n_estimators, criterion = best_criterion_rf, min_samples_split = best_min_samples_split_rf)\n",
    "model_rf_optimized.fit(X_train, y_train)\n",
    "y_pred_rf_test_optimized = model_rf_optimized.predict(X_test)\n",
    "get_metrics(y_test, y_pred_rf_test_optimized)"
   ]
  },
  {
   "cell_type": "code",
   "execution_count": null,
   "metadata": {},
   "outputs": [],
   "source": []
  },
  {
   "cell_type": "code",
   "execution_count": null,
   "metadata": {},
   "outputs": [],
   "source": []
  },
  {
   "cell_type": "code",
   "execution_count": null,
   "metadata": {},
   "outputs": [],
   "source": []
  },
  {
   "cell_type": "code",
   "execution_count": null,
   "metadata": {},
   "outputs": [],
   "source": []
  }
 ],
 "metadata": {
  "kernelspec": {
   "display_name": "Python 3",
   "language": "python",
   "name": "python3"
  },
  "language_info": {
   "codemirror_mode": {
    "name": "ipython",
    "version": 3
   },
   "file_extension": ".py",
   "mimetype": "text/x-python",
   "name": "python",
   "nbconvert_exporter": "python",
   "pygments_lexer": "ipython3",
   "version": "3.8.3"
  }
 },
 "nbformat": 4,
 "nbformat_minor": 4
}
